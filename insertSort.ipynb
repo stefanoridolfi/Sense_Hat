{
  "nbformat": 4,
  "nbformat_minor": 0,
  "metadata": {
    "colab": {
      "name": "Untitled25.ipynb",
      "provenance": [],
      "authorship_tag": "ABX9TyNXHCIzF28z4Vf4lj1WjU7x",
      "include_colab_link": true
    },
    "kernelspec": {
      "name": "python3",
      "display_name": "Python 3"
    }
  },
  "cells": [
    {
      "cell_type": "markdown",
      "metadata": {
        "id": "view-in-github",
        "colab_type": "text"
      },
      "source": [
        "<a href=\"https://colab.research.google.com/github/stefanoridolfi/Sense_Hat/blob/master/insertSort.ipynb\" target=\"_parent\"><img src=\"https://colab.research.google.com/assets/colab-badge.svg\" alt=\"Open In Colab\"/></a>"
      ]
    },
    {
      "cell_type": "code",
      "metadata": {
        "id": "oqdr932dzv5B",
        "colab_type": "code",
        "outputId": "b4ac6e69-b62d-42db-cfde-e89432897a33",
        "colab": {
          "base_uri": "https://localhost:8080/",
          "height": 476
        }
      },
      "source": [
        "# Function to do insertion sort \n",
        "def insertionSort(arr): \n",
        "  \n",
        "    # Traverse through 1 to len(arr) \n",
        "    for i in range(1, len(arr)): \n",
        "  \n",
        "        key = arr[i] \n",
        "  \n",
        "        # Move elements of arr[0..i-1], that are \n",
        "        # greater than key, to one position ahead \n",
        "        # of their current position \n",
        "        j = i-1\n",
        "        print(\"key, elemento da esaminare=\",key,\" ,elemento di posizione\",i)\n",
        "        while j >=0 and key < arr[j] : \n",
        "                print(\"i=\",i,\"j=\",j)\n",
        "                arr[j+1] = arr[j] \n",
        "                print(\"DENTRO WHILE:in posizione\",j+1,\"ci metto\",arr[j],\"ora array è\",arr)\n",
        "                j -= 1\n",
        "        arr[j+1] = key \n",
        "        print(\"Finito while, in posizione\",j+1,\"ci metto\",key)\n",
        "        print(\"prima di esaminare il prossimo elemento array è\",arr)\n",
        "  \n",
        "  \n",
        "# Driver code to test above \n",
        "arr = [12, 11, 13, 5, 6] \n",
        "insertionSort(arr) \n",
        "print(arr)\n"
      ],
      "execution_count": 6,
      "outputs": [
        {
          "output_type": "stream",
          "text": [
            "key, elemento da esaminare= 11  ,elemento di posizione 1\n",
            "i= 1 j= 0\n",
            "DENTRO WHILE:in posizione 1 ci metto 12 ora array è [12, 12, 13, 5, 6]\n",
            "Finito while, in posizione 0 ci metto 11\n",
            "prima di esaminare il prossimo elemento array è [11, 12, 13, 5, 6]\n",
            "key, elemento da esaminare= 13  ,elemento di posizione 2\n",
            "Finito while, in posizione 2 ci metto 13\n",
            "prima di esaminare il prossimo elemento array è [11, 12, 13, 5, 6]\n",
            "key, elemento da esaminare= 5  ,elemento di posizione 3\n",
            "i= 3 j= 2\n",
            "DENTRO WHILE:in posizione 3 ci metto 13 ora array è [11, 12, 13, 13, 6]\n",
            "i= 3 j= 1\n",
            "DENTRO WHILE:in posizione 2 ci metto 12 ora array è [11, 12, 12, 13, 6]\n",
            "i= 3 j= 0\n",
            "DENTRO WHILE:in posizione 1 ci metto 11 ora array è [11, 11, 12, 13, 6]\n",
            "Finito while, in posizione 0 ci metto 5\n",
            "prima di esaminare il prossimo elemento array è [5, 11, 12, 13, 6]\n",
            "key, elemento da esaminare= 6  ,elemento di posizione 4\n",
            "i= 4 j= 3\n",
            "DENTRO WHILE:in posizione 4 ci metto 13 ora array è [5, 11, 12, 13, 13]\n",
            "i= 4 j= 2\n",
            "DENTRO WHILE:in posizione 3 ci metto 12 ora array è [5, 11, 12, 12, 13]\n",
            "i= 4 j= 1\n",
            "DENTRO WHILE:in posizione 2 ci metto 11 ora array è [5, 11, 11, 12, 13]\n",
            "Finito while, in posizione 1 ci metto 6\n",
            "prima di esaminare il prossimo elemento array è [5, 6, 11, 12, 13]\n",
            "[5, 6, 11, 12, 13]\n"
          ],
          "name": "stdout"
        }
      ]
    }
  ]
}