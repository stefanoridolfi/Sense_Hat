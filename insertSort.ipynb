{
  "nbformat": 4,
  "nbformat_minor": 0,
  "metadata": {
    "colab": {
      "name": "Untitled25.ipynb",
      "provenance": [],
      "authorship_tag": "ABX9TyPZrCFukL2J+BzZ9o5l6ZNf",
      "include_colab_link": true
    },
    "kernelspec": {
      "name": "python3",
      "display_name": "Python 3"
    }
  },
  "cells": [
    {
      "cell_type": "markdown",
      "metadata": {
        "id": "view-in-github",
        "colab_type": "text"
      },
      "source": [
        "<a href=\"https://colab.research.google.com/github/stefanoridolfi/Sense_Hat/blob/master/insertSort.ipynb\" target=\"_parent\"><img src=\"https://colab.research.google.com/assets/colab-badge.svg\" alt=\"Open In Colab\"/></a>"
      ]
    },
    {
      "cell_type": "code",
      "metadata": {
        "id": "oqdr932dzv5B",
        "colab_type": "code",
        "colab": {
          "base_uri": "https://localhost:8080/",
          "height": 340
        },
        "outputId": "554f89fa-707e-41c3-b305-142ba74cdece"
      },
      "source": [
        "# Function to do insertion sort \n",
        "def insertionSort(arr): \n",
        "  \n",
        "    # Traverse through 1 to len(arr) \n",
        "    for i in range(1, len(arr)): \n",
        "  \n",
        "        key = arr[i] \n",
        "  \n",
        "        # Move elements of arr[0..i-1], that are \n",
        "        # greater than key, to one position ahead \n",
        "        # of their current position \n",
        "        j = i-1\n",
        "        while j >=0 and key < arr[j] : \n",
        "                print(\"i=\",i)\n",
        "                print(\"j=\",j)\n",
        "                arr[j+1] = arr[j] \n",
        "                j -= 1\n",
        "        print(\"finito while\")\n",
        "        arr[j+1] = key \n",
        "  \n",
        "  \n",
        "# Driver code to test above \n",
        "arr = [12, 11, 13, 5, 6] \n",
        "insertionSort(arr) \n",
        "print(arr)\n"
      ],
      "execution_count": 17,
      "outputs": [
        {
          "output_type": "stream",
          "text": [
            "i= 1\n",
            "j= 0\n",
            "finito while\n",
            "finito while\n",
            "i= 3\n",
            "j= 2\n",
            "i= 3\n",
            "j= 1\n",
            "i= 3\n",
            "j= 0\n",
            "finito while\n",
            "i= 4\n",
            "j= 3\n",
            "i= 4\n",
            "j= 2\n",
            "i= 4\n",
            "j= 1\n",
            "finito while\n",
            "[5, 6, 11, 12, 13]\n"
          ],
          "name": "stdout"
        }
      ]
    }
  ]
}